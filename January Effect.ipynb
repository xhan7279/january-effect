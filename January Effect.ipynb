{
 "cells": [
  {
   "cell_type": "markdown",
   "metadata": {},
   "source": [
    "Exam if January Effect exist in S&P500 stocks \n",
    "Data source:\n",
    "https://www.kaggle.com/camnugent/sandp500/downloads/sandp500.zip/4\n",
    "    "
   ]
  },
  {
   "cell_type": "code",
   "execution_count": 2,
   "metadata": {},
   "outputs": [],
   "source": [
    "import pandas as pd\n",
    "import sklearn as sk"
   ]
  },
  {
   "cell_type": "code",
   "execution_count": 3,
   "metadata": {},
   "outputs": [],
   "source": [
    "fname = 'all_stocks_5yr.csv'"
   ]
  },
  {
   "cell_type": "code",
   "execution_count": 4,
   "metadata": {},
   "outputs": [],
   "source": [
    "data = pd.read_csv(fname, parse_dates=['date'], infer_datetime_format=True)"
   ]
  },
  {
   "cell_type": "code",
   "execution_count": 5,
   "metadata": {},
   "outputs": [
    {
     "data": {
      "text/html": [
       "<div>\n",
       "<style scoped>\n",
       "    .dataframe tbody tr th:only-of-type {\n",
       "        vertical-align: middle;\n",
       "    }\n",
       "\n",
       "    .dataframe tbody tr th {\n",
       "        vertical-align: top;\n",
       "    }\n",
       "\n",
       "    .dataframe thead th {\n",
       "        text-align: right;\n",
       "    }\n",
       "</style>\n",
       "<table border=\"1\" class=\"dataframe\">\n",
       "  <thead>\n",
       "    <tr style=\"text-align: right;\">\n",
       "      <th></th>\n",
       "      <th>date</th>\n",
       "      <th>open</th>\n",
       "      <th>high</th>\n",
       "      <th>low</th>\n",
       "      <th>close</th>\n",
       "      <th>volume</th>\n",
       "      <th>Name</th>\n",
       "    </tr>\n",
       "  </thead>\n",
       "  <tbody>\n",
       "    <tr>\n",
       "      <th>0</th>\n",
       "      <td>2013-02-08</td>\n",
       "      <td>15.07</td>\n",
       "      <td>15.12</td>\n",
       "      <td>14.63</td>\n",
       "      <td>14.75</td>\n",
       "      <td>8407500</td>\n",
       "      <td>AAL</td>\n",
       "    </tr>\n",
       "    <tr>\n",
       "      <th>1</th>\n",
       "      <td>2013-02-11</td>\n",
       "      <td>14.89</td>\n",
       "      <td>15.01</td>\n",
       "      <td>14.26</td>\n",
       "      <td>14.46</td>\n",
       "      <td>8882000</td>\n",
       "      <td>AAL</td>\n",
       "    </tr>\n",
       "    <tr>\n",
       "      <th>2</th>\n",
       "      <td>2013-02-12</td>\n",
       "      <td>14.45</td>\n",
       "      <td>14.51</td>\n",
       "      <td>14.10</td>\n",
       "      <td>14.27</td>\n",
       "      <td>8126000</td>\n",
       "      <td>AAL</td>\n",
       "    </tr>\n",
       "    <tr>\n",
       "      <th>3</th>\n",
       "      <td>2013-02-13</td>\n",
       "      <td>14.30</td>\n",
       "      <td>14.94</td>\n",
       "      <td>14.25</td>\n",
       "      <td>14.66</td>\n",
       "      <td>10259500</td>\n",
       "      <td>AAL</td>\n",
       "    </tr>\n",
       "    <tr>\n",
       "      <th>4</th>\n",
       "      <td>2013-02-14</td>\n",
       "      <td>14.94</td>\n",
       "      <td>14.96</td>\n",
       "      <td>13.16</td>\n",
       "      <td>13.99</td>\n",
       "      <td>31879900</td>\n",
       "      <td>AAL</td>\n",
       "    </tr>\n",
       "  </tbody>\n",
       "</table>\n",
       "</div>"
      ],
      "text/plain": [
       "        date   open   high    low  close    volume Name\n",
       "0 2013-02-08  15.07  15.12  14.63  14.75   8407500  AAL\n",
       "1 2013-02-11  14.89  15.01  14.26  14.46   8882000  AAL\n",
       "2 2013-02-12  14.45  14.51  14.10  14.27   8126000  AAL\n",
       "3 2013-02-13  14.30  14.94  14.25  14.66  10259500  AAL\n",
       "4 2013-02-14  14.94  14.96  13.16  13.99  31879900  AAL"
      ]
     },
     "execution_count": 5,
     "metadata": {},
     "output_type": "execute_result"
    }
   ],
   "source": [
    "data.head()"
   ]
  },
  {
   "cell_type": "code",
   "execution_count": 6,
   "metadata": {},
   "outputs": [
    {
     "name": "stdout",
     "output_type": "stream",
     "text": [
      "Total number of companies 505\n"
     ]
    }
   ],
   "source": [
    "comps = data['Name'].drop_duplicates()\n",
    "comp_num = comps.shape[0]\n",
    "print(f\"Total number of companies {comp_num}\")"
   ]
  },
  {
   "cell_type": "code",
   "execution_count": 7,
   "metadata": {},
   "outputs": [
    {
     "name": "stdout",
     "output_type": "stream",
     "text": [
      "start date = 2013-02 \n",
      "end date = 2018-02\n"
     ]
    }
   ],
   "source": [
    "dates = data['date'].map(lambda x: x.strftime('%Y') + '-' + x.strftime('%m')).drop_duplicates().values\n",
    "print(f\"start date = {dates.min()} \\n\"\n",
    "      f\"end date = {dates.max()}\")"
   ]
  },
  {
   "cell_type": "code",
   "execution_count": 29,
   "metadata": {},
   "outputs": [],
   "source": [
    "def calculate_p(result):\n",
    "    val = result.values()\n",
    "    pos = [x for x in val if x > 0]\n",
    "    percent = len(pos)/len(val)*100\n",
    "    return percent"
   ]
  },
  {
   "cell_type": "markdown",
   "metadata": {},
   "source": [
    "Exam the average price in January avg_jan, compared to Average Price in December avg_dec \n"
   ]
  },
  {
   "cell_type": "code",
   "execution_count": 8,
   "metadata": {},
   "outputs": [],
   "source": [
    "avg_p_result = {}\n",
    "yrs = range(2014, 2018)\n",
    "for c in comps:\n",
    "    df = data[data['Name'] == c]\n",
    "    for y in yrs:\n",
    "        jan = df[ (df['date'] >= \"{}-01-01\".format(y)) & (df['date'] < \"{}-02-01\".format(y))]\n",
    "        avg_jan = jan[['open', 'close']].mean()\n",
    "        \n",
    "        dec = df[ (df['date'] >= \"{}-12-01\".format(y-1)) & (df['date'] < \"{}-01-01\".format(y))]\n",
    "        avg_dec = dec[['open', 'close']].mean()\n",
    "        \n",
    "        comp =  (avg_jan > avg_dec)\n",
    "        score = comp.sum()\n",
    "        avg_p_result[c] = score"
   ]
  },
  {
   "cell_type": "code",
   "execution_count": 30,
   "metadata": {},
   "outputs": [
    {
     "data": {
      "text/plain": [
       "65.94059405940594"
      ]
     },
     "execution_count": 30,
     "metadata": {},
     "output_type": "execute_result"
    }
   ],
   "source": [
    "avg_p = calculate_p(avg_p_result)\n",
    "avg_p"
   ]
  },
  {
   "cell_type": "markdown",
   "metadata": {},
   "source": [
    "Looks like it is only true in 66% of the time\n",
    "\n",
    "What if we narrow down the criteria and exam the first opening of the year compared to last close?"
   ]
  },
  {
   "cell_type": "code",
   "execution_count": 25,
   "metadata": {},
   "outputs": [],
   "source": [
    "open_close_result = {}\n",
    "for c in comps:\n",
    "    df = data[data['Name'] == c]\n",
    "    for y in yrs:\n",
    "        jan = df[ (df['date'] >= \"{}-01-01\".format(y)) & (df['date'] < \"{}-02-01\".format(y))].head(1)\n",
    "        jan_open = jan['open']\n",
    "        \n",
    "        dec = df[ (df['date'] >= \"{}-12-01\".format(y-1)) & (df['date'] < \"{}-01-01\".format(y))].head(1)\n",
    "        dec_close = dec['close']\n",
    "        \n",
    "        comp =  jan_open.values > dec_close.values\n",
    "        score = comp.sum()\n",
    "        open_close_result[c] = score"
   ]
  },
  {
   "cell_type": "code",
   "execution_count": 31,
   "metadata": {},
   "outputs": [
    {
     "data": {
      "text/plain": [
       "70.6930693069307"
      ]
     },
     "execution_count": 31,
     "metadata": {},
     "output_type": "execute_result"
    }
   ],
   "source": [
    "open_close_p = calculate_p(open_close_result)\n",
    "open_close_p"
   ]
  },
  {
   "cell_type": "markdown",
   "metadata": {},
   "source": [
    "Instead of comparing the open/clost price, let's compare the profit. Assuming purchase on the 1st day of the month at open and sell on the last day at close"
   ]
  },
  {
   "cell_type": "code",
   "execution_count": 67,
   "metadata": {},
   "outputs": [],
   "source": [
    "profit_result = {}\n",
    "for c in comps:\n",
    "    df = data[data['Name'] == c]\n",
    "    profit_result[c] = 0\n",
    "    for y in yrs:\n",
    "        jan_purchase = df[ (df['date'] >= \"{}-01-01\".format(y)) & (df['date'] < \"{}-02-01\".format(y))].head(1)\n",
    "        jan_sell = df[ (df['date'] >= \"{}-01-01\".format(y)) & (df['date'] < \"{}-02-01\".format(y))].tail(1)\n",
    "        jan_profit = jan_purchase['open'].values - jan_sell['close'].values\n",
    "                \n",
    "        dec_purchase = df[ (df['date'] >= \"{}-12-01\".format(y-1)) & (df['date'] < \"{}-01-01\".format(y))].head(1)\n",
    "        dec_sell = df[ (df['date'] >= \"{}-12-01\".format(y-1)) & (df['date'] < \"{}-01-01\".format(y))].tail(1)\n",
    "        dec_profit = dec_purchase['open'].values - dec_sell['close'].values\n",
    "        \n",
    "        comp =  jan_profit > dec_profit\n",
    "        score = comp.sum()\n",
    "        profit_result[c] += score\n",
    "    profit_result[c] = profit_result[c] * 1.0/ len(yrs) "
   ]
  },
  {
   "cell_type": "code",
   "execution_count": 69,
   "metadata": {},
   "outputs": [
    {
     "data": {
      "text/plain": [
       "57.67326732673267"
      ]
     },
     "execution_count": 69,
     "metadata": {},
     "output_type": "execute_result"
    }
   ],
   "source": [
    "profit_p = sum(profit_result.values()) / len(comps) * 100.0\n",
    "profit_p"
   ]
  },
  {
   "cell_type": "markdown",
   "metadata": {},
   "source": [
    "Hmmm how about the first week?"
   ]
  },
  {
   "cell_type": "code",
   "execution_count": 70,
   "metadata": {},
   "outputs": [],
   "source": [
    "profit_1w_result = {}\n",
    "for c in comps:\n",
    "    df = data[data['Name'] == c]\n",
    "    profit_1w_result[c] = 0\n",
    "    for y in yrs:\n",
    "        jan_purchase = df[ (df['date'] >= \"{}-01-01\".format(y)) & (df['date'] < \"{}-01-08\".format(y))].head(1)\n",
    "        jan_sell = df[ (df['date'] >= \"{}-01-01\".format(y)) & (df['date'] < \"{}-01-08\".format(y))].tail(1)\n",
    "        jan_profit = jan_purchase['open'].values - jan_sell['close'].values\n",
    "                \n",
    "        dec_purchase = df[ (df['date'] >= \"{}-12-01\".format(y-1)) & (df['date'] < \"{}-12-08\".format(y))].head(1)\n",
    "        dec_sell = df[ (df['date'] >= \"{}-12-01\".format(y-1)) & (df['date'] < \"{}-12-08\".format(y))].tail(1)\n",
    "        dec_profit = dec_purchase['open'].values - dec_sell['close'].values\n",
    "        \n",
    "        comp =  jan_profit > dec_profit\n",
    "        score = comp.sum()\n",
    "        profit_1w_result[c] += score\n",
    "    profit_1w_result[c] /= len(yrs) * 1.0"
   ]
  },
  {
   "cell_type": "code",
   "execution_count": 73,
   "metadata": {},
   "outputs": [
    {
     "data": {
      "text/plain": [
       "71.03960396039604"
      ]
     },
     "execution_count": 73,
     "metadata": {},
     "output_type": "execute_result"
    }
   ],
   "source": [
    "profit_1w_p = sum(profit_1w_result.values())/ len(comps)*100.0\n",
    "profit_1w_p"
   ]
  },
  {
   "cell_type": "markdown",
   "metadata": {},
   "source": [
    "How do we know this is not due to the change of month?"
   ]
  },
  {
   "cell_type": "code",
   "execution_count": 88,
   "metadata": {},
   "outputs": [],
   "source": [
    "change_of_month_result = {}\n",
    "months = range(2, 12) # already examed jan\n",
    "for c in comps:\n",
    "    df = data[data['Name'] == c]\n",
    "    change_of_month_result[c] = 0\n",
    "    for y in yrs:\n",
    "        for month in months: \n",
    "            m = str(month).zfill(2)\n",
    "            m1 = str(month-1).zfill(2)\n",
    "            curr_purchase = df[(df['date'] >= \"{0}-{1}-01\".format(y, m)) & (df['date'] < \"{0}-{1}-08\".format(y, m))].head(1)\n",
    "            curr_sell = df[(df['date'] >= \"{0}-{1}-01\".format(y, m)) & (df['date'] < \"{0}-{1}-08\".format(y, m))].tail(1)\n",
    "            curr_profit = curr_purchase['open'].values - curr_sell['close'].values\n",
    "                \n",
    "            prev_purchase = df[(df['date'] >= \"{0}-{1}-01\".format(y, m1)) & (df['date'] < \"{0}-{1}-08\".format(y, m1))].head(1)\n",
    "            prev_sell = df[(df['date'] >= \"{0}-{1}-01\".format(y, m1)) & (df['date'] < \"{0}-{1}-08\".format(y, m1))].tail(1)\n",
    "            prev_profit = prev_purchase['open'].values - prev_sell['close'].values\n",
    "        \n",
    "            comp =  curr_profit > prev_profit\n",
    "            score = comp.sum()\n",
    "            change_of_month_result[c] += score\n",
    "    change_of_month_result[c] /= len(months) * len(yrs) * 1.0\n"
   ]
  },
  {
   "cell_type": "code",
   "execution_count": 91,
   "metadata": {},
   "outputs": [
    {
     "data": {
      "text/plain": [
       "47.64851485148508"
      ]
     },
     "execution_count": 91,
     "metadata": {},
     "output_type": "execute_result"
    }
   ],
   "source": [
    "change_of_month_p = 1.0 * sum(change_of_month_result.values())/len(comps)* 100\n",
    "change_of_month_p"
   ]
  },
  {
   "cell_type": "code",
   "execution_count": null,
   "metadata": {},
   "outputs": [],
   "source": []
  }
 ],
 "metadata": {
  "kernelspec": {
   "display_name": "Python 3",
   "language": "python",
   "name": "python3"
  },
  "language_info": {
   "codemirror_mode": {
    "name": "ipython",
    "version": 3
   },
   "file_extension": ".py",
   "mimetype": "text/x-python",
   "name": "python",
   "nbconvert_exporter": "python",
   "pygments_lexer": "ipython3",
   "version": "3.7.1"
  }
 },
 "nbformat": 4,
 "nbformat_minor": 2
}
